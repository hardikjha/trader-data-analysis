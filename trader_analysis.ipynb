{
 "cells": [
  {
   "cell_type": "code",
   "execution_count": null,
   "id": "55df9688",
   "metadata": {},
   "outputs": [],
   "source": [
    "# Sentiment vs Trader Performance"
   ]
  },
  {
   "cell_type": "code",
   "execution_count": 1,
   "id": "8989d1c0",
   "metadata": {},
   "outputs": [],
   "source": [
    "import os\n",
    "from pathlib import Path\n",
    "import pandas as pd\n",
    "import numpy as np\n",
    "import matplotlib.pyplot as plt\n",
    "from datetime import datetime\n",
    "from scipy import stats\n",
    "from sklearn.linear_model import LogisticRegression\n",
    "from sklearn.model_selection import train_test_split\n",
    "from sklearn.metrics import classification_report, roc_auc_score, roc_curve"
   ]
  },
  {
   "cell_type": "code",
   "execution_count": 2,
   "id": "038d740f",
   "metadata": {},
   "outputs": [],
   "source": [
    "# Plotting defaults\n",
    "plt.rcParams['figure.figsize'] = (8,4)"
   ]
  },
  {
   "cell_type": "code",
   "execution_count": 3,
   "id": "7d4f1e0b",
   "metadata": {},
   "outputs": [],
   "source": [
    "SENT_FILE = 'fear_greed_index.csv' \n",
    "TRADES_FILE = 'historical_data.csv'\n",
    "OUT_DIR = Path('analysis_outputs')\n",
    "OUT_DIR.mkdir(exist_ok=True)"
   ]
  },
  {
   "cell_type": "code",
   "execution_count": 4,
   "id": "b869ffd8",
   "metadata": {},
   "outputs": [],
   "source": [
    "def safe_read(path):\n",
    "    path = Path(path)\n",
    "    if not path.exists():\n",
    "        raise FileNotFoundError(f\"File not found: {path}\")\n",
    "    \n",
    "    # Try common formats\n",
    "    if path.suffix.lower() in ['.csv', '.txt']:\n",
    "        return pd.read_csv(path, low_memory=False)\n",
    "    if path.suffix.lower() in ['.parquet', '.pq']:\n",
    "        return pd.read_parquet(path)\n",
    "    \n",
    "    # Fallback\n",
    "    return pd.read_csv(path, low_memory=False)"
   ]
  },
  {
   "cell_type": "code",
   "execution_count": 5,
   "id": "0471f0c8",
   "metadata": {},
   "outputs": [],
   "source": [
    "def find_column_like(df, keywords):\n",
    "    keys = [k.lower() for k in keywords]\n",
    "    for c in df.columns:\n",
    "        low = c.lower()\n",
    "        for k in keys:\n",
    "            if k in low:\n",
    "                return c\n",
    "    return None"
   ]
  },
  {
   "cell_type": "code",
   "execution_count": 6,
   "id": "0094fb21",
   "metadata": {},
   "outputs": [
    {
     "name": "stdout",
     "output_type": "stream",
     "text": [
      "Sentiment rows, cols: (2644, 4)\n",
      "Trades rows, cols: (211224, 16)\n"
     ]
    }
   ],
   "source": [
    "sent = safe_read(SENT_FILE)\n",
    "trades = safe_read(TRADES_FILE)\n",
    "\n",
    "\n",
    "print('Sentiment rows, cols:', sent.shape)\n",
    "print('Trades rows, cols:', trades.shape)"
   ]
  },
  {
   "cell_type": "code",
   "execution_count": 7,
   "id": "ef17977c",
   "metadata": {},
   "outputs": [
    {
     "name": "stdout",
     "output_type": "stream",
     "text": [
      "\n",
      "Sentiment head:\n",
      "    timestamp  value classification        date\n",
      "0  1517463000     30           Fear  2018-02-01\n",
      "1  1517549400     15   Extreme Fear  2018-02-02\n",
      "2  1517635800     40           Fear  2018-02-03\n",
      "3  1517722200     24   Extreme Fear  2018-02-04\n",
      "4  1517808600     11   Extreme Fear  2018-02-05\n",
      "\n",
      "Trades head:\n",
      "                                      Account  Coin  Execution Price  \\\n",
      "0  0xae5eacaf9c6b9111fd53034a602c192a04e082ed  @107           7.9769   \n",
      "1  0xae5eacaf9c6b9111fd53034a602c192a04e082ed  @107           7.9800   \n",
      "2  0xae5eacaf9c6b9111fd53034a602c192a04e082ed  @107           7.9855   \n",
      "3  0xae5eacaf9c6b9111fd53034a602c192a04e082ed  @107           7.9874   \n",
      "4  0xae5eacaf9c6b9111fd53034a602c192a04e082ed  @107           7.9894   \n",
      "\n",
      "   Size Tokens  Size USD Side     Timestamp IST  Start Position Direction  \\\n",
      "0       986.87   7872.16  BUY  02-12-2024 22:50        0.000000       Buy   \n",
      "1        16.00    127.68  BUY  02-12-2024 22:50      986.524596       Buy   \n",
      "2       144.09   1150.63  BUY  02-12-2024 22:50     1002.518996       Buy   \n",
      "3       142.98   1142.04  BUY  02-12-2024 22:50     1146.558564       Buy   \n",
      "4         8.73     69.75  BUY  02-12-2024 22:50     1289.488521       Buy   \n",
      "\n",
      "   Closed PnL                                   Transaction Hash     Order ID  \\\n",
      "0         0.0  0xec09451986a1874e3a980418412fcd0201f500c95bac...  52017706630   \n",
      "1         0.0  0xec09451986a1874e3a980418412fcd0201f500c95bac...  52017706630   \n",
      "2         0.0  0xec09451986a1874e3a980418412fcd0201f500c95bac...  52017706630   \n",
      "3         0.0  0xec09451986a1874e3a980418412fcd0201f500c95bac...  52017706630   \n",
      "4         0.0  0xec09451986a1874e3a980418412fcd0201f500c95bac...  52017706630   \n",
      "\n",
      "   Crossed       Fee      Trade ID     Timestamp  \n",
      "0     True  0.345404  8.950000e+14  1.730000e+12  \n",
      "1     True  0.005600  4.430000e+14  1.730000e+12  \n",
      "2     True  0.050431  6.600000e+14  1.730000e+12  \n",
      "3     True  0.050043  1.080000e+15  1.730000e+12  \n",
      "4     True  0.003055  1.050000e+15  1.730000e+12  \n"
     ]
    }
   ],
   "source": [
    "print('\\nSentiment head:')\n",
    "print(sent.head())\n",
    "print('\\nTrades head:')\n",
    "print(trades.head())"
   ]
  },
  {
   "cell_type": "code",
   "execution_count": 8,
   "id": "6b4fd0f7",
   "metadata": {},
   "outputs": [],
   "source": [
    "# Inspect columns and detect key fields\n",
    "# - We want: date column in sentiment, classification column in sentiment,\n",
    "# timestamp column in trades, and closed PnL (or realized PnL) in trades."
   ]
  },
  {
   "cell_type": "code",
   "execution_count": 9,
   "id": "1f1202fd",
   "metadata": {},
   "outputs": [],
   "source": [
    "sent_date_col = find_column_like(sent, ['date','time','timestamp','day'])\n",
    "sent_label_col = find_column_like(sent, ['class','sentiment','label','value','fear','greed'])\n",
    "trades_time_col = find_column_like(trades, ['time','timestamp','date','datetime'])\n",
    "trades_pnl_col = find_column_like(trades, ['pnl','closed','realized','profit','loss'])"
   ]
  },
  {
   "cell_type": "code",
   "execution_count": 10,
   "id": "06cb2c3b",
   "metadata": {},
   "outputs": [
    {
     "name": "stdout",
     "output_type": "stream",
     "text": [
      "Detected sentiment date column: timestamp\n",
      "Detected sentiment label column: value\n",
      "Detected trades time column: Timestamp IST\n",
      "Detected trades pnl column: Closed PnL\n"
     ]
    }
   ],
   "source": [
    "print('Detected sentiment date column:', sent_date_col)\n",
    "print('Detected sentiment label column:', sent_label_col)\n",
    "print('Detected trades time column:', trades_time_col)\n",
    "print('Detected trades pnl column:', trades_pnl_col)"
   ]
  },
  {
   "cell_type": "code",
   "execution_count": 12,
   "id": "00c91417",
   "metadata": {},
   "outputs": [],
   "source": [
    "# parse sentiment date\n",
    "if sent_date_col is None:\n",
    "    sent['Date_parsed'] = pd.to_datetime(sent.iloc[:,0], errors='coerce')\n",
    "else:\n",
    "    sent['Date_parsed'] = pd.to_datetime(sent[sent_date_col], errors='coerce', utc=True)\n",
    "\n",
    "\n",
    "sent['date_only'] = sent['Date_parsed'].dt.date"
   ]
  },
  {
   "cell_type": "code",
   "execution_count": 13,
   "id": "f234f4d9",
   "metadata": {},
   "outputs": [
    {
     "name": "stdout",
     "output_type": "stream",
     "text": [
      "Parsed sample sentiment dates:\n",
      "                          Date_parsed   date_only\n",
      "0    1970-01-01 00:00:01.517463+00:00  1970-01-01\n",
      "1 1970-01-01 00:00:01.517549400+00:00  1970-01-01\n",
      "2 1970-01-01 00:00:01.517635800+00:00  1970-01-01\n",
      "3 1970-01-01 00:00:01.517722200+00:00  1970-01-01\n",
      "4 1970-01-01 00:00:01.517808600+00:00  1970-01-01\n",
      "\n",
      "Parsed sample trade dates:\n",
      "                Time_parsed  trade_date\n",
      "0 2024-02-12 22:50:00+00:00  2024-02-12\n",
      "1 2024-02-12 22:50:00+00:00  2024-02-12\n",
      "2 2024-02-12 22:50:00+00:00  2024-02-12\n",
      "3 2024-02-12 22:50:00+00:00  2024-02-12\n",
      "4 2024-02-12 22:50:00+00:00  2024-02-12\n"
     ]
    }
   ],
   "source": [
    "# parse trades time\n",
    "if trades_time_col is None:\n",
    "    trades['Time_parsed'] = pd.to_datetime(trades.iloc[:,0], errors='coerce')\n",
    "else:\n",
    "    trades['Time_parsed'] = pd.to_datetime(trades[trades_time_col], errors='coerce', utc=True)\n",
    "\n",
    "\n",
    "trades['trade_date'] = trades['Time_parsed'].dt.date\n",
    "\n",
    "\n",
    "print('Parsed sample sentiment dates:')\n",
    "print(sent[['Date_parsed','date_only']].head())\n",
    "print('\\nParsed sample trade dates:')\n",
    "print(trades[['Time_parsed','trade_date']].head())"
   ]
  },
  {
   "cell_type": "code",
   "execution_count": 14,
   "id": "9e74742f",
   "metadata": {},
   "outputs": [],
   "source": [
    "# Normalize sentiment labels\n",
    "# - Turn values like 'fear/greed index' into category labels: Fear, Greed, Neutral\n",
    "# - If your sentiment file already has a classification column (like 'classification'), use it."
   ]
  },
  {
   "cell_type": "code",
   "execution_count": 15,
   "id": "cfbbd699",
   "metadata": {},
   "outputs": [
    {
     "name": "stdout",
     "output_type": "stream",
     "text": [
      "Sentiment class sample:\n",
      "                          Date_parsed  value sent_class\n",
      "0    1970-01-01 00:00:01.517463+00:00     30         30\n",
      "1 1970-01-01 00:00:01.517549400+00:00     15         15\n",
      "2 1970-01-01 00:00:01.517635800+00:00     40         40\n",
      "3 1970-01-01 00:00:01.517722200+00:00     24         24\n",
      "4 1970-01-01 00:00:01.517808600+00:00     11         11\n"
     ]
    }
   ],
   "source": [
    "if sent_label_col is None:\n",
    "    # choose a fallback (non-date column)\n",
    "    possible = [c for c in sent.columns if c not in (sent_date_col, 'Date_parsed','date_only')]\n",
    "    sent_label_col = possible[0]\n",
    "\n",
    "\n",
    "sent['sent_class'] = sent[sent_label_col].astype(str).str.strip().str.title()\n",
    "print('Sentiment class sample:')\n",
    "print(sent[['Date_parsed', sent_label_col, 'sent_class']].head())"
   ]
  },
  {
   "cell_type": "code",
   "execution_count": null,
   "id": "372cdddb",
   "metadata": {},
   "outputs": [],
   "source": []
  }
 ],
 "metadata": {
  "kernelspec": {
   "display_name": "base",
   "language": "python",
   "name": "python3"
  },
  "language_info": {
   "codemirror_mode": {
    "name": "ipython",
    "version": 3
   },
   "file_extension": ".py",
   "mimetype": "text/x-python",
   "name": "python",
   "nbconvert_exporter": "python",
   "pygments_lexer": "ipython3",
   "version": "3.12.7"
  }
 },
 "nbformat": 4,
 "nbformat_minor": 5
}
