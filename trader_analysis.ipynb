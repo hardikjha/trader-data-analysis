{
 "cells": [
  {
   "cell_type": "code",
   "execution_count": null,
   "id": "55df9688",
   "metadata": {},
   "outputs": [],
   "source": [
    "# Sentiment vs Trader Performance"
   ]
  },
  {
   "cell_type": "code",
   "execution_count": 1,
   "id": "8989d1c0",
   "metadata": {},
   "outputs": [],
   "source": [
    "import os\n",
    "from pathlib import Path\n",
    "import pandas as pd\n",
    "import numpy as np\n",
    "import matplotlib.pyplot as plt\n",
    "from datetime import datetime\n",
    "from scipy import stats\n",
    "from sklearn.linear_model import LogisticRegression\n",
    "from sklearn.model_selection import train_test_split\n",
    "from sklearn.metrics import classification_report, roc_auc_score, roc_curve"
   ]
  },
  {
   "cell_type": "code",
   "execution_count": null,
   "id": "038d740f",
   "metadata": {},
   "outputs": [],
   "source": [
    "# Plotting defaults\n",
    "plt.rcParams['figure.figsize'] = (8,4)"
   ]
  },
  {
   "cell_type": "code",
   "execution_count": 3,
   "id": "7d4f1e0b",
   "metadata": {},
   "outputs": [],
   "source": [
    "SENT_FILE = 'fear_greed_index.csv' \n",
    "TRADES_FILE = 'historical_data.csv'\n",
    "OUT_DIR = Path('analysis_outputs')\n",
    "OUT_DIR.mkdir(exist_ok=True)"
   ]
  },
  {
   "cell_type": "code",
   "execution_count": 5,
   "id": "b869ffd8",
   "metadata": {},
   "outputs": [],
   "source": [
    "def safe_read(path):\n",
    "    path = Path(path)\n",
    "    if not path.exists():\n",
    "        raise FileNotFoundError(f\"File not found: {path}\")\n",
    "    \n",
    "    # Try common formats\n",
    "    if path.suffix.lower() in ['.csv', '.txt']:\n",
    "        return pd.read_csv(path, low_memory=False)\n",
    "    if path.suffix.lower() in ['.parquet', '.pq']:\n",
    "        return pd.read_parquet(path)\n",
    "    \n",
    "    # Fallback\n",
    "    return pd.read_csv(path, low_memory=False)"
   ]
  },
  {
   "cell_type": "code",
   "execution_count": 8,
   "id": "0471f0c8",
   "metadata": {},
   "outputs": [],
   "source": [
    "def find_column_like(df, keywords):\n",
    "    keys = [k.lower() for k in keywords]\n",
    "    for c in df.columns:\n",
    "        low = c.lower()\n",
    "        for k in keys:\n",
    "            if k in low:\n",
    "                return c\n",
    "    return None"
   ]
  },
  {
   "cell_type": "code",
   "execution_count": 9,
   "id": "0094fb21",
   "metadata": {},
   "outputs": [
    {
     "name": "stdout",
     "output_type": "stream",
     "text": [
      "Sentiment rows, cols: (2644, 4)\n",
      "Trades rows, cols: (211224, 16)\n"
     ]
    }
   ],
   "source": [
    "sent = safe_read(SENT_FILE)\n",
    "trades = safe_read(TRADES_FILE)\n",
    "\n",
    "\n",
    "print('Sentiment rows, cols:', sent.shape)\n",
    "print('Trades rows, cols:', trades.shape)"
   ]
  },
  {
   "cell_type": "code",
   "execution_count": 10,
   "id": "ef17977c",
   "metadata": {},
   "outputs": [
    {
     "name": "stdout",
     "output_type": "stream",
     "text": [
      "\n",
      "Sentiment head:\n",
      "    timestamp  value classification        date\n",
      "0  1517463000     30           Fear  2018-02-01\n",
      "1  1517549400     15   Extreme Fear  2018-02-02\n",
      "2  1517635800     40           Fear  2018-02-03\n",
      "3  1517722200     24   Extreme Fear  2018-02-04\n",
      "4  1517808600     11   Extreme Fear  2018-02-05\n",
      "\n",
      "Trades head:\n",
      "                                      Account  Coin  Execution Price  \\\n",
      "0  0xae5eacaf9c6b9111fd53034a602c192a04e082ed  @107           7.9769   \n",
      "1  0xae5eacaf9c6b9111fd53034a602c192a04e082ed  @107           7.9800   \n",
      "2  0xae5eacaf9c6b9111fd53034a602c192a04e082ed  @107           7.9855   \n",
      "3  0xae5eacaf9c6b9111fd53034a602c192a04e082ed  @107           7.9874   \n",
      "4  0xae5eacaf9c6b9111fd53034a602c192a04e082ed  @107           7.9894   \n",
      "\n",
      "   Size Tokens  Size USD Side     Timestamp IST  Start Position Direction  \\\n",
      "0       986.87   7872.16  BUY  02-12-2024 22:50        0.000000       Buy   \n",
      "1        16.00    127.68  BUY  02-12-2024 22:50      986.524596       Buy   \n",
      "2       144.09   1150.63  BUY  02-12-2024 22:50     1002.518996       Buy   \n",
      "3       142.98   1142.04  BUY  02-12-2024 22:50     1146.558564       Buy   \n",
      "4         8.73     69.75  BUY  02-12-2024 22:50     1289.488521       Buy   \n",
      "\n",
      "   Closed PnL                                   Transaction Hash     Order ID  \\\n",
      "0         0.0  0xec09451986a1874e3a980418412fcd0201f500c95bac...  52017706630   \n",
      "1         0.0  0xec09451986a1874e3a980418412fcd0201f500c95bac...  52017706630   \n",
      "2         0.0  0xec09451986a1874e3a980418412fcd0201f500c95bac...  52017706630   \n",
      "3         0.0  0xec09451986a1874e3a980418412fcd0201f500c95bac...  52017706630   \n",
      "4         0.0  0xec09451986a1874e3a980418412fcd0201f500c95bac...  52017706630   \n",
      "\n",
      "   Crossed       Fee      Trade ID     Timestamp  \n",
      "0     True  0.345404  8.950000e+14  1.730000e+12  \n",
      "1     True  0.005600  4.430000e+14  1.730000e+12  \n",
      "2     True  0.050431  6.600000e+14  1.730000e+12  \n",
      "3     True  0.050043  1.080000e+15  1.730000e+12  \n",
      "4     True  0.003055  1.050000e+15  1.730000e+12  \n"
     ]
    }
   ],
   "source": [
    "print('\\nSentiment head:')\n",
    "print(sent.head())\n",
    "print('\\nTrades head:')\n",
    "print(trades.head())"
   ]
  },
  {
   "cell_type": "code",
   "execution_count": null,
   "id": "6b4fd0f7",
   "metadata": {},
   "outputs": [],
   "source": []
  }
 ],
 "metadata": {
  "kernelspec": {
   "display_name": "base",
   "language": "python",
   "name": "python3"
  },
  "language_info": {
   "codemirror_mode": {
    "name": "ipython",
    "version": 3
   },
   "file_extension": ".py",
   "mimetype": "text/x-python",
   "name": "python",
   "nbconvert_exporter": "python",
   "pygments_lexer": "ipython3",
   "version": "3.12.7"
  }
 },
 "nbformat": 4,
 "nbformat_minor": 5
}
